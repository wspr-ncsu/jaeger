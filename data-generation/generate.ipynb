{
 "cells": [
  {
   "cell_type": "code",
   "execution_count": 1,
   "metadata": {},
   "outputs": [
    {
     "name": "stdout",
     "output_type": "stream",
     "text": [
      "load_cache finished in 0.0 seconds\n",
      "create_phone_network finished in 0.09 seconds\n",
      "generate_market_shares finished in 0.0 seconds\n",
      "all_pairs_johnson finished in 3.43 seconds\n",
      "set_cache finished in 0.27 seconds\n",
      "create_user_network finished in 0.42 seconds\n",
      "shuffle_subscribers finished in 0.14 seconds\n",
      "[90000/199996]:: Elapsed time: 0.56 seconds\n",
      "[180000/199996]:: Elapsed time: 0.58 seconds\n",
      "runner finished in 5.89 seconds\n"
     ]
    }
   ],
   "source": [
    "from generator import run\n",
    "\n",
    "run(num_carriers=1000, num_subs=100000, use_cache=True)"
   ]
  }
 ],
 "metadata": {
  "kernelspec": {
   "display_name": "venv",
   "language": "python",
   "name": "python3"
  },
  "language_info": {
   "codemirror_mode": {
    "name": "ipython",
    "version": 3
   },
   "file_extension": ".py",
   "mimetype": "text/x-python",
   "name": "python",
   "nbconvert_exporter": "python",
   "pygments_lexer": "ipython3",
   "version": "3.8.18"
  },
  "orig_nbformat": 4,
  "vscode": {
   "interpreter": {
    "hash": "30f5dc4e5b6fe4db4d1f69b310b9c1b90c5c14a85c4f7ab2fc24e07e77be5cc6"
   }
  }
 },
 "nbformat": 4,
 "nbformat_minor": 2
}
