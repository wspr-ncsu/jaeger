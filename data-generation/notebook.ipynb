{
 "cells": [
  {
   "cell_type": "code",
   "execution_count": null,
   "metadata": {},
   "outputs": [],
   "source": [
    "import math\n",
    "from models.subscribers_network import register_subscribers, create_subscribers_network\n",
    "\n",
    "\n",
    "num_individuals = 400 * math.pow(10, 0)\n",
    "num_subnetworks = 5\n",
    "num_robocallers = 10\n",
    "\n",
    "subscribers = register_subscribers(1000, num_individuals)\n",
    "robocallers = register_subscribers(2000, num_robocallers)\n",
    "\n",
    "calls = create_subscribers_network(\n",
    "    users=(num_individuals, num_subnetworks),\n",
    "    rbcallers=num_robocallers\n",
    ")"
   ]
  }
 ],
 "metadata": {
  "kernelspec": {
   "display_name": "venv",
   "language": "python",
   "name": "python3"
  },
  "language_info": {
   "codemirror_mode": {
    "name": "ipython",
    "version": 3
   },
   "file_extension": ".py",
   "mimetype": "text/x-python",
   "name": "python",
   "nbconvert_exporter": "python",
   "pygments_lexer": "ipython3",
   "version": "3.8.18"
  },
  "orig_nbformat": 4
 },
 "nbformat": 4,
 "nbformat_minor": 2
}
