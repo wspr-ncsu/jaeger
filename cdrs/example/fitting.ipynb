{
 "cells": [
  {
   "cell_type": "code",
   "execution_count": null,
   "metadata": {},
   "outputs": [],
   "source": [
    "import matplotlib.pyplot as plt\n",
    "import networkx as nx\n",
    "import numpy as np\n",
    "import random\n",
    "import pandas as pd\n",
    "import pickle\n",
    "\n",
    "with open('sample-dist.pickle', 'rb') as f:\n",
    "    degree_count = pickle.load(f)\n",
    "\n",
    "# print(degree_count)\n",
    "\n",
    "x, counts = zip(*degree_count.items())\n",
    "    \n",
    "with open('sample-dist.pickle', 'wb') as f:\n",
    "    pickle.dump(degree_count, f)\n",
    "\n",
    "# Normalize the counts\n",
    "total_counts = sum(counts)\n",
    "y = [count / total_counts for count in counts]\n",
    "\n",
    "# print(len(y))\n",
    "# print(len(x))\n",
    "# print(sum(y))\n",
    "# print(y)\n",
    "\n",
    "# Plot the degree distribution as a line graph\n",
    "plt.figure()\n",
    "plt.plot(x, y, linestyle='-', color='b')\n",
    "\n",
    "plt.title(\"Degree Distribution\")\n",
    "plt.ylabel(\"Probability\")\n",
    "plt.xlabel(\"Degree\")\n",
    "\n",
    "# plt.xscale(\"log\")\n",
    "# plt.yscale(\"log\")\n",
    "\n",
    "plt.show()"
   ]
  }
 ],
 "metadata": {
  "language_info": {
   "name": "python"
  },
  "orig_nbformat": 4
 },
 "nbformat": 4,
 "nbformat_minor": 2
}
