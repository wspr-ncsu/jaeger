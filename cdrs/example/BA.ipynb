{
 "cells": [
  {
   "cell_type": "code",
   "execution_count": 1,
   "metadata": {},
   "outputs": [
    {
     "name": "stdout",
     "output_type": "stream",
     "text": [
      "{43: 2, 42: 2, 18: 1, 17: 6, 11: 18, 37: 3, 73: 1, 30: 1, 48: 1, 57: 1, 26: 1, 14: 5, 23: 2, 15: 7, 16: 5, 34: 1, 31: 1, 22: 2, 12: 11, 8: 18, 13: 5, 19: 2, 10: 11, 6: 67, 20: 1, 28: 1, 9: 21, 7: 32, 5: 71}\n"
     ]
    }
   ],
   "source": [
    "import matplotlib.pyplot as plt\n",
    "import networkx as nx\n",
    "import numpy as np\n",
    "import random\n",
    "\n",
    "def draw(G):\n",
    "    nx.draw(G, with_labels=True, node_color='lightblue', font_weight='bold', node_size=500)\n",
    "    plt.show()\n",
    "    \n",
    "def plot_degree_distribution(G):\n",
    "    distribution = dict()\n",
    "    \n",
    "    for n, d in G.degree():\n",
    "        if d not in distribution:\n",
    "            distribution[d] = 0\n",
    "        distribution[d] += 1\n",
    "        \n",
    "    print(distribution)\n",
    "\n",
    "number_of_carriers = 300\n",
    "initial_nodes = 20\n",
    "number_of_attachment_edges = 5\n",
    "\n",
    "initial_graph = nx.star_graph(initial_nodes)\n",
    "    \n",
    "G = nx.barabasi_albert_graph(number_of_carriers, number_of_attachment_edges)\n",
    "\n",
    "for u, v, d in G.edges(data=True):\n",
    "    d['weight'] = random.randint(1, 10)\n",
    "    \n",
    "# draw(G)\n",
    "plot_degree_distribution(G)"
   ]
  }
 ],
 "metadata": {
  "kernelspec": {
   "display_name": "venv",
   "language": "python",
   "name": "python3"
  },
  "language_info": {
   "codemirror_mode": {
    "name": "ipython",
    "version": 3
   },
   "file_extension": ".py",
   "mimetype": "text/x-python",
   "name": "python",
   "nbconvert_exporter": "python",
   "pygments_lexer": "ipython3",
   "version": "3.7.9"
  },
  "orig_nbformat": 4
 },
 "nbformat": 4,
 "nbformat_minor": 2
}
