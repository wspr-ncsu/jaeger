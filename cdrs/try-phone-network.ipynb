{
 "cells": [
  {
   "cell_type": "code",
   "execution_count": 1,
   "metadata": {},
   "outputs": [
    {
     "name": "stdout",
     "output_type": "stream",
     "text": [
      "2 - 3: 76.56\n",
      "4 - 10: 22.97\n",
      "11 - 20: 0.4\n",
      "heavy hitters (500+): 0.07\n"
     ]
    }
   ],
   "source": [
    "from phone_network import create_network\n",
    "from helpers import draw_graph, plot_degree_distribution, show_goodness_of_fit, distribution\n",
    "\n",
    "num_nodes = 7000\n",
    "runs = 1\n",
    "data = {}\n",
    "\n",
    "def calc_avg():\n",
    "    global data\n",
    "    \n",
    "    for key in data.keys():\n",
    "        data[key] = sum(data[key]) / len(data[key])\n",
    "        \n",
    "def calc_percent():\n",
    "    global data\n",
    "    \n",
    "    for key in data.keys():\n",
    "        data[key] = round((data[key] / num_nodes) * 100, 2)\n",
    "\n",
    "def update_data(result):\n",
    "    global data\n",
    "    \n",
    "    for key in result.keys():\n",
    "        if key in data.keys():\n",
    "            data[key].append(result[key])\n",
    "        else:\n",
    "            data[key] = [result[key]]\n",
    "\n",
    "for i in range(0, runs):\n",
    "    degrees, edges = create_network(num_nodes, 5, 2, apply_fitness=True, dev_mode=False)\n",
    "    # draw_graph(edges)\n",
    "    # plot_degree_distribution(degrees)\n",
    "    # show_goodness_of_fit(degrees)\n",
    "    \n",
    "    result, total = distribution(degrees)\n",
    "    update_data(result)\n",
    "    \n",
    "calc_avg()\n",
    "calc_percent()\n",
    "\n",
    "for key in data.keys():\n",
    "    print(f\"{key}: {data[key]}\")"
   ]
  }
 ],
 "metadata": {
  "kernelspec": {
   "display_name": "venv",
   "language": "python",
   "name": "python3"
  },
  "language_info": {
   "codemirror_mode": {
    "name": "ipython",
    "version": 3
   },
   "file_extension": ".py",
   "mimetype": "text/x-python",
   "name": "python",
   "nbconvert_exporter": "python",
   "pygments_lexer": "ipython3",
   "version": "3.7.9"
  },
  "orig_nbformat": 4
 },
 "nbformat": 4,
 "nbformat_minor": 2
}
