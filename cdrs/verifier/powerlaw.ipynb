{
 "cells": [
  {
   "cell_type": "code",
   "execution_count": 14,
   "metadata": {},
   "outputs": [
    {
     "name": "stdout",
     "output_type": "stream",
     "text": [
      "EDGE NUMBER: 360\n",
      "Calculating best minimal value for power law fit\n",
      "xmin progress: 97%\n",
      "Slope from polyfit: -1.848688\n",
      "alpha: 11.748998157547518\n",
      "Xmin: 32.0\n",
      "R: -0.450200894387804\n",
      "p-value: 0.057242210990635284\n",
      "=========================================\n"
     ]
    },
    {
     "name": "stderr",
     "output_type": "stream",
     "text": [
      "/Users/dahmed/workspace/tracecalls/venv/lib/python3.7/site-packages/powerlaw.py:1615: RuntimeWarning: invalid value encountered in true_divide\n",
      "  CDF = CDF/norm\n",
      "'nan' in fit cumulative distribution values.\n",
      "Likely underflow or overflow error: the optimal fit for this distribution gives values that are so extreme that we lack the numerical precision to calculate them.\n"
     ]
    }
   ],
   "source": [
    "import powerlaw\n",
    "import numpy as np\n",
    "import pickle\n",
    "from pathlib import Path\n",
    "import math\n",
    "\n",
    "def get_data(edge_number):\n",
    "    cwd = Path.cwd()\n",
    "    \n",
    "    with open(f\"{cwd}/../example/pickles/v6684-n50-e{edge_number}.pickle\", 'rb') as f:\n",
    "        degree_count = pickle.load(f)\n",
    "        \n",
    "    x, counts = zip(*degree_count.items())\n",
    "    total_counts = sum(counts)\n",
    "    y = [math.log(count / total_counts) for count in counts]\n",
    "    x = [math.log(i) for i in x]\n",
    "    m, c = np.polyfit(x, y, 1)\n",
    "    \n",
    "    data = np.array(list(degree_count.values()))\n",
    "    \n",
    "    return {\n",
    "        'data': data,\n",
    "        'slope': format(m, \"2f\"),\n",
    "        'y-intercept': c\n",
    "    }\n",
    "\n",
    "def check_fit_to_powerlaw(edge_number):\n",
    "    print(f\"EDGE NUMBER: {edge_number}\")\n",
    "    \n",
    "    data = get_data(edge_number)\n",
    "    # print(data['data'])\n",
    "    results = powerlaw.Fit(data['data'])\n",
    "    \n",
    "    print(f\"\\nSlope from polyfit: {data['slope']}\")\n",
    "    print(f\"alpha: {results.power_law.alpha}\")\n",
    "    print(f\"Xmin: {results.power_law.xmin}\")\n",
    "    \n",
    "    R, p = results.distribution_compare('power_law', 'lognormal')\n",
    "    \n",
    "    print(f\"R: {R}\")\n",
    "    print(f\"p-value: {p}\")\n",
    "    \n",
    "    print(\"=========================================\")\n",
    "\n",
    "check_fit_to_powerlaw(360)\n",
    "\n",
    "# for m in range(20, 521, 20):\n",
    "#     check_fit_to_powerlaw(m)\n",
    "    "
   ]
  }
 ],
 "metadata": {
  "kernelspec": {
   "display_name": "venv",
   "language": "python",
   "name": "python3"
  },
  "language_info": {
   "codemirror_mode": {
    "name": "ipython",
    "version": 3
   },
   "file_extension": ".py",
   "mimetype": "text/x-python",
   "name": "python",
   "nbconvert_exporter": "python",
   "pygments_lexer": "ipython3",
   "version": "3.7.9"
  },
  "orig_nbformat": 4
 },
 "nbformat": 4,
 "nbformat_minor": 2
}
