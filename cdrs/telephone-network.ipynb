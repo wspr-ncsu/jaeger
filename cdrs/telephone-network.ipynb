{
 "cells": [
  {
   "cell_type": "code",
   "execution_count": null,
   "metadata": {},
   "outputs": [],
   "source": [
    "from custom_network import power_law_graph\n",
    "from helpers import draw_graph, plot_degree_distribution, show_goodness_of_fit, distribution\n",
    "\n",
    "degrees, edges = power_law_graph(7000, 5, 2, apply_fitness=True)\n",
    "# draw_graph(edges)\n",
    "plot_degree_distribution(degrees)\n",
    "distribution(degrees)\n",
    "show_goodness_of_fit(degrees)\n"
   ]
  }
 ],
 "metadata": {
  "kernelspec": {
   "display_name": "venv",
   "language": "python",
   "name": "python3"
  },
  "language_info": {
   "codemirror_mode": {
    "name": "ipython",
    "version": 3
   },
   "file_extension": ".py",
   "mimetype": "text/x-python",
   "name": "python",
   "nbconvert_exporter": "python",
   "pygments_lexer": "ipython3",
   "version": "3.7.9"
  },
  "orig_nbformat": 4
 },
 "nbformat": 4,
 "nbformat_minor": 2
}
