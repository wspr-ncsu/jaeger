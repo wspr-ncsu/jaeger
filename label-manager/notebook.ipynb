{
 "cells": [
  {
   "cell_type": "code",
   "execution_count": 1,
   "metadata": {},
   "outputs": [
    {
     "name": "stdout",
     "output_type": "stream",
     "text": [
      "s1: b'\\x85\\n\\xb1\\x8b\\xbdsZI\\x91\\xf5\\xc2\\x99\\xcf\\x84og\\x05s\\xb4\\x95gX\\xec\\xf9\\x99R\\xd1\\xcc\\x156\\xde\\x07'\n",
      "s2: b'\\x16\\x87b\\x1f\\xf6FJ\\xff\\xe7\\x9c\\x83lM~\\xe7\\xe8\\xd5\\\\!\\x8bc\\x1d \\x81\\xbe\\x08#\\x85\\x9dHH\\x02'\n",
      "x: b'\\xf2Y\\xda\\xca;\"\\x8c\\x97\\x03\\xed\\x9e\\\\-U\\xf3\\xca\\xb1u\\x9b4/\\xc5\\xb8\\x85\\'\\x85\\xbf\\xe0&\\xd9\\xca\\x10'\n",
      "fx: b'\\x18\\xde\\xad \\x84\\xe8\\xddS{\\x07\\x008\\xf8\\x10\\x0e\\xa5\\xb8\\x1b$\\x13\\x19C\\x9a\\xd1\\xdd\\xd6\\xae%\\xa8+\\xe9F'\n"
     ]
    }
   ],
   "source": [
    "from models.oprf import scalar, point\n",
    "\n",
    "msg = \"Hello, World!\"\n",
    "s1 = scalar.random()\n",
    "s2 = scalar.random()\n",
    "s1 = scalar.from_base64(s1.to_base64())\n",
    "s2 = scalar.from_base64(s2.to_base64())\n",
    "\n",
    "x = point.hash(msg.encode())\n",
    "x = point.from_base64(x.to_base64())\n",
    "\n",
    "print('s1:', s1)\n",
    "print('s2:', s2)\n",
    "print('x:', x)\n",
    "\n",
    "fx = s2 * (s1 * x)\n",
    "\n",
    "print('fx:', fx)"
   ]
  }
 ],
 "metadata": {
  "kernelspec": {
   "display_name": ".venv",
   "language": "python",
   "name": "python3"
  },
  "language_info": {
   "codemirror_mode": {
    "name": "ipython",
    "version": 3
   },
   "file_extension": ".py",
   "mimetype": "text/x-python",
   "name": "python",
   "nbconvert_exporter": "python",
   "pygments_lexer": "ipython3",
   "version": "3.8.18"
  }
 },
 "nbformat": 4,
 "nbformat_minor": 2
}
