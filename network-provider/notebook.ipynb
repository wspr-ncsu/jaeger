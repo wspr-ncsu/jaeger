{
 "cells": [
  {
   "cell_type": "code",
   "execution_count": 8,
   "metadata": {},
   "outputs": [
    {
     "name": "stdout",
     "output_type": "stream",
     "text": [
      "{'xs': '[\"CPilM5L9qw5Cg++b23Nh6ViBeNjevwzLizY+fbFz+lc=\"]', 'cid': 2000}\n",
      "{\"fxs\":[\"XFxfBa38SDnd80YN3dN5rlpMQ2iTx4w+kpQmlPm+ACQ=\"]}\n",
      "\n",
      "XFxfBa38SDnd80YN3dN5rlpMQ2iTx4w+kpQmlPm+ACQ=\n",
      "['7rZzoPRLC7CUFfID28KO3mt4baQ2XlU5ZKi5xUnc2TI=']\n"
     ]
    }
   ],
   "source": [
    "from models.helpers import CDR\n",
    "import models.groupsig as groupsig\n",
    "import models.trace_auth as trace_auth\n",
    "import models.contribution as contribution\n",
    "\n",
    "cid = 2000\n",
    "vk = trace_auth.register(cid)\n",
    "mem_key, grp_key = groupsig.register(cid)\n",
    "contribution.init(id=cid, mem_key=mem_key, grp_key=grp_key, vk=vk)\n",
    "\n",
    "# print(\"vk: \", vk)\n",
    "# print(\"mem_key: \", mem_key)\n",
    "# print(\"grp_key: \", grp_key)\n",
    "\n",
    "cdr = CDR('1000', '1001', '2020-01-01 00:00:00', 1000, cid, 2000)\n",
    "res = contribution.contribute([cdr])\n",
    "print(res)"
   ]
  }
 ],
 "metadata": {
  "kernelspec": {
   "display_name": ".venv",
   "language": "python",
   "name": "python3"
  },
  "language_info": {
   "codemirror_mode": {
    "name": "ipython",
    "version": 3
   },
   "file_extension": ".py",
   "mimetype": "text/x-python",
   "name": "python",
   "nbconvert_exporter": "python",
   "pygments_lexer": "ipython3",
   "version": "3.8.18"
  }
 },
 "nbformat": 4,
 "nbformat_minor": 2
}
