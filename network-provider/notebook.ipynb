{
 "cells": [
  {
   "cell_type": "code",
   "execution_count": 1,
   "metadata": {},
   "outputs": [
    {
     "name": "stdout",
     "output_type": "stream",
     "text": [
      "vk:  JacobianPoint(x=Fq(0x55789..dc2bf), y=Fq(0x90f5d..4a666)z=Fq(0x1), i=False)\n",
      "\n",
      "mem_key:  <cdata 'groupsig_key_t *' 0x1802cf0>\n",
      "grp_key:  <cdata 'groupsig_key_t *' 0x186cb50>\n",
      "x:  b'\\x12\\\\\\xf0?\\x9e\\xcc\\xa7\\x8b\\xb5\\xeb\\xab\\x1baP8\\xa9\\x826\\xb1\\x8czl\\xceG\\xf7\\x07\\xfc\\x0be\\xd1\\xb0\\t'\n",
      "{'xs': '[\"ElzwP57Mp4u166sbYVA4qYI2sYx6bM5H9wf8C2XRsAk=\"]', 'cid': 2000}\n",
      "{\"fxs\":[\"cvINmJt/q5jIDCDWdjYeN4znEBHbjRb34fHhy0r2kWw=\"]}\n",
      "\n"
     ]
    },
    {
     "data": {
      "text/plain": [
       "{'fxs': ['cvINmJt/q5jIDCDWdjYeN4znEBHbjRb34fHhy0r2kWw=']}"
      ]
     },
     "execution_count": 1,
     "metadata": {},
     "output_type": "execute_result"
    }
   ],
   "source": [
    "from models.helpers import CDR\n",
    "import models.groupsig as groupsig\n",
    "import models.trace_auth as trace_auth\n",
    "import models.contribution as contribution\n",
    "\n",
    "cid = 2000\n",
    "vk = trace_auth.register(cid)\n",
    "mem_key, grp_key = groupsig.register(cid)\n",
    "contribution.init(id=cid, mem_key=mem_key, grp_key=grp_key, vk=vk)\n",
    "\n",
    "print(\"vk: \", vk)\n",
    "print(\"mem_key: \", mem_key)\n",
    "print(\"grp_key: \", grp_key)\n",
    "\n",
    "cdr = CDR('1000', '1001', '2020-01-01 00:00:00', 1000, cid, 2000)\n",
    "contribution.contribute([cdr])"
   ]
  }
 ],
 "metadata": {
  "kernelspec": {
   "display_name": ".venv",
   "language": "python",
   "name": "python3"
  },
  "language_info": {
   "codemirror_mode": {
    "name": "ipython",
    "version": 3
   },
   "file_extension": ".py",
   "mimetype": "text/x-python",
   "name": "python",
   "nbconvert_exporter": "python",
   "pygments_lexer": "ipython3",
   "version": "3.8.18"
  }
 },
 "nbformat": 4,
 "nbformat_minor": 2
}
