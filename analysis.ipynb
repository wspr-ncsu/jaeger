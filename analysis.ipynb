{
 "cells": [
  {
   "cell_type": "code",
   "execution_count": 1,
   "metadata": {},
   "outputs": [
    {
     "name": "stdout",
     "output_type": "stream",
     "text": [
      "\n",
      "\n",
      "Checking origin invariant\n",
      "\u001b[0m-> \u001b[32m1\n",
      "\u001b[0mChecking Terminal invariant\n",
      "\u001b[0m-> \u001b[32m5\n",
      "\u001b[0mChecking transit invariant (All other nodes must have in-degree, out-degree either 1 or 2)\n",
      "\u001b[0m-> \u001b[32m2, 3, 4\n",
      "\u001b[0mChecking connectivity (Can all records be linked)\n",
      "\u001b[0m-> \u001b[32mYES\n",
      "\u001b[0m-> Possible paths from 1 to 5: \u001b[33m1 -> 2 -> 3 -> 4 -> 5\n",
      "\u001b[0m"
     ]
    }
   ],
   "source": [
    "import privytrace.analyzer as analyzer\n",
    "\n",
    "ideal =                 ['None|1|2',    '1|2|3',    '2|3|4',    '3|4|5',    '4|5|None']\n",
    "missing_origin =        [ None,         '1|2|3',    '2|3|4',    '3|4|5',    '4|5|None']\n",
    "missing_termination =   ['None|1|2',    '1|2|3',    '2|3|4',    '3|4|5',     None     ]\n",
    "alternate_misses_1 =    ['None|1|2',    None,       '2|3|4',    None,       '4|5|None']\n",
    "alternate_misses_2 =    [ None,         '1|2|3',     None,      '3|4|5',    '4|5|None']\n",
    "alternate_misses_3 =    [ None,         '1|2|3',     None,      '3|4|5',    None]\n",
    "consecutive_misses =    ['None|1|2',    None,       None,       '3|4|5',    '4|5|None'] \n",
    "\n",
    "analyzer.init(ideal)\n",
    "# print(\"IN DEGREE: \", analyzer.in_degs)\n",
    "# print(\"OUT DEGREE: \", analyzer.out_degs)\n",
    "analyzer.analyze()"
   ]
  }
 ],
 "metadata": {
  "kernelspec": {
   "display_name": "Python 3",
   "language": "python",
   "name": "python3"
  },
  "language_info": {
   "codemirror_mode": {
    "name": "ipython",
    "version": 3
   },
   "file_extension": ".py",
   "mimetype": "text/x-python",
   "name": "python",
   "nbconvert_exporter": "python",
   "pygments_lexer": "ipython3",
   "version": "3.8.18"
  }
 },
 "nbformat": 4,
 "nbformat_minor": 2
}
