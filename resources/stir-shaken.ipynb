{
 "cells": [
  {
   "cell_type": "code",
   "execution_count": 1,
   "metadata": {},
   "outputs": [],
   "source": [
    "import numpy as np\n",
    "import pandas as pd"
   ]
  },
  {
   "cell_type": "code",
   "execution_count": 2,
   "metadata": {},
   "outputs": [
    {
     "name": "stdout",
     "output_type": "stream",
     "text": [
      "Total Carriers in US: 7028\n",
      "Completed: 2676 (38.08%)\n",
      "Partial: 1782 (25.36%)\n",
      "No: 1837 (26.14%)\n",
      "Unknown: 733 (10.43%)\n"
     ]
    }
   ],
   "source": [
    "db = pd.read_csv('Robocall_Mitigation_Database.csv')\n",
    "\n",
    "# Get all US carriers\n",
    "us_carriers = db[db['country'] == 'United States of America']\n",
    "total = len(us_carriers)\n",
    "print(f\"Total Carriers in US: {total}\")\n",
    "\n",
    "def get_implementation_count(status):\n",
    "    return len(us_carriers[us_carriers['implementation'].fillna('').str.contains(status, case=False)])\n",
    "\n",
    "# Get carriers that completed implementation of STIR/SHAKEN\n",
    "completed = get_implementation_count('Complete')\n",
    "print(f\"Completed: {completed} ({(completed / total * 100):.2f}%)\")\n",
    "\n",
    "# Get carriers that has partial implementation of STIR/SHAKEN\n",
    "partial = get_implementation_count('Partial')\n",
    "print(f\"Partial: {partial} ({(partial / total * 100):.2f}%)\")\n",
    "\n",
    "# Get carriers that has No implementation of STIR/SHAKEN\n",
    "no = get_implementation_count('No')\n",
    "print(f\"No: {no} ({(no / total * 100):.2f}%)\")\n",
    "\n",
    "unknown = total - (completed + partial + no)\n",
    "print(f\"Unknown: {unknown} ({(unknown / total * 100):.2f}%)\")"
   ]
  }
 ],
 "metadata": {
  "kernelspec": {
   "display_name": "venv",
   "language": "python",
   "name": "python3"
  },
  "language_info": {
   "codemirror_mode": {
    "name": "ipython",
    "version": 3
   },
   "file_extension": ".py",
   "mimetype": "text/x-python",
   "name": "python",
   "nbconvert_exporter": "python",
   "pygments_lexer": "ipython3",
   "version": "3.8.18"
  },
  "orig_nbformat": 4
 },
 "nbformat": 4,
 "nbformat_minor": 2
}
